{
 "cells": [
  {
   "cell_type": "code",
   "execution_count": null,
   "metadata": {},
   "outputs": [],
   "source": [
    "import numpy as np\n",
    "import matplotlib.pyplot as plt\n",
    "\n",
    "# Parameters\n",
    "s = 0.3  # Example savings rate\n",
    "delta = 0.05  # Example depreciation rate\n",
    "alpha = 0.3  # Example value for alpha\n",
    "beta = 1 - alpha  # Since beta + alpha = 1\n",
    "\n",
    "# Function phi(k_t)\n",
    "def phi_kt(k_t):\n",
    "    return s * k_t**(beta + alpha) + (1 - delta) * k_t\n",
    "\n",
    "# Generate a range of k_t values\n",
    "k_t_values = np.linspace(0, 10, 100)\n",
    "\n",
    "# Generate phi(k_t) values\n",
    "phi_values = phi_kt(k_t_values)\n",
    "\n",
    "# Create the plot\n",
    "fig, ax = plt.subplots(figsize=(10, 6))\n",
    "ax.set_facecolor('#FFFAF0')\n",
    "ax.plot(k_t_values, phi_values, label=r'$\\phi(k_t) = sk_t^{\\beta + \\alpha} + (1 - \\delta)k_t$', color='blue')\n",
    "ax.plot(k_t_values, k_t_values, label=r'45-degree line ($k_{t+1} = k_t$)', color='red', linestyle='--')\n",
    "ax.set_xlabel(r'$k_t$')\n",
    "ax.set_ylabel(r'$k_{t+1}$')\n",
    "ax.set_title('Capital per Worker Over Time')\n",
    "ax.legend()\n",
    "ax.grid(True)\n",
    "plt.show()"
   ]
  }
 ],
 "metadata": {
  "language_info": {
   "name": "python"
  }
 },
 "nbformat": 4,
 "nbformat_minor": 2
}
